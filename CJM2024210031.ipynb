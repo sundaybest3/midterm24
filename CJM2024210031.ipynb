{
  "nbformat": 4,
  "nbformat_minor": 0,
  "metadata": {
    "colab": {
      "provenance": [],
      "authorship_tag": "ABX9TyNvSUffBZ5vgeZSCakSjghl",
      "include_colab_link": true
    },
    "kernelspec": {
      "name": "python3",
      "display_name": "Python 3"
    },
    "language_info": {
      "name": "python"
    }
  },
  "cells": [
    {
      "cell_type": "markdown",
      "metadata": {
        "id": "view-in-github",
        "colab_type": "text"
      },
      "source": [
        "<a href=\"https://colab.research.google.com/github/sundaybest3/midterm24/blob/main/CJM2024210031.ipynb\" target=\"_parent\"><img src=\"https://colab.research.google.com/assets/colab-badge.svg\" alt=\"Open In Colab\"/></a>"
      ]
    },
    {
      "cell_type": "markdown",
      "source": [
        "# **🌀Midterm 2024: Jungmin Choi (2024210031)**"
      ],
      "metadata": {
        "id": "NcR4h5zdvxZJ"
      }
    },
    {
      "cell_type": "code",
      "execution_count": 7,
      "metadata": {
        "colab": {
          "base_uri": "https://localhost:8080/"
        },
        "id": "STxsHdjGvpQF",
        "outputId": "65080978-5d63-4311-e6bb-0c514af0ebae"
      },
      "outputs": [
        {
          "output_type": "stream",
          "name": "stdout",
          "text": [
            "My name is Jungmin Choi.\n"
          ]
        }
      ],
      "source": [
        "# Name question\n",
        "\n",
        "x = \"My name is\"\n",
        "# Name question\n",
        "\n",
        "x = \"My name is\"\n",
        "y = \"Jungmin Choi\"\n",
        "\n",
        "print(x,y + \".\")\n"
      ]
    },
    {
      "cell_type": "markdown",
      "source": [
        "## Variable Question"
      ],
      "metadata": {
        "id": "jg1fAb2Gxig4"
      }
    },
    {
      "cell_type": "code",
      "source": [
        "# 'Mary, 1998, Ohio; and John, 1999, Boston.'\n",
        "\n",
        "name=input(\"Name: \")\n",
        "year=input(\"Born in: \")\n",
        "hometown=input(\"Hometown: \")\n",
        "\n",
        "print(f\"Hello, my name is {name}. I was born in {year}, and I'm from {hometown}. Nice to meet you.\")\n"
      ],
      "metadata": {
        "colab": {
          "base_uri": "https://localhost:8080/"
        },
        "id": "zzPRETvTxnjf",
        "outputId": "a9f08d35-d6f2-4874-9ac8-bad44968ac33"
      },
      "execution_count": 8,
      "outputs": [
        {
          "output_type": "stream",
          "name": "stdout",
          "text": [
            "Name: Mary\n",
            "Born in: 1998\n",
            "Hometown: Ohio\n",
            "Hello, my name is Mary. I was born in 1998, and I'm from Ohio. Nice to meet you.\n"
          ]
        }
      ]
    },
    {
      "cell_type": "markdown",
      "source": [
        "## Index Question"
      ],
      "metadata": {
        "id": "lUVmME691I8K"
      }
    },
    {
      "cell_type": "code",
      "source": [
        "# Dropdown\n",
        "\n",
        "cardinal_number = \"2\" #@param = [\"1\",\"2\",\"3\",\"4\"]\n",
        "\n",
        "# Add one line of code below\n",
        "cardinal_number = int(cardinal_number)\n",
        "cardinal_number = int(cardinal_number) - 1\n",
        "\n",
        "# Ordinal expression as a list\n",
        "\n",
        "words = [\"First\", \"Second\", \"Third\",\"Fourth\"]\n",
        "\n",
        "print(\"The ordinal expression:\", words[cardinal_number])"
      ],
      "metadata": {
        "colab": {
          "base_uri": "https://localhost:8080/"
        },
        "id": "gKHYDkN01O92",
        "outputId": "2a11a1c2-833f-4ad3-dfeb-9564719882bc"
      },
      "execution_count": 16,
      "outputs": [
        {
          "output_type": "stream",
          "name": "stdout",
          "text": [
            "The ordinal expression: Second\n"
          ]
        }
      ]
    },
    {
      "cell_type": "markdown",
      "source": [
        "## GTTS Question"
      ],
      "metadata": {
        "id": "8gd0KuUb2W9A"
      }
    },
    {
      "cell_type": "code",
      "source": [
        "\n",
        "# First, install the gTTS library if you haven't already\n",
        "!pip install gTTS\n",
        "\n",
        "# Import the gTTS library\n",
        "from gtts import gTTS\n",
        "\n",
        "# Import IPython display module\n",
        "from IPython.display import Audio, display\n",
        ""
      ],
      "metadata": {
        "colab": {
          "base_uri": "https://localhost:8080/"
        },
        "id": "hFWqqZpX2aWr",
        "outputId": "f5b6c7b0-2f3e-41a0-94cb-f411951cbcd4"
      },
      "execution_count": 17,
      "outputs": [
        {
          "output_type": "stream",
          "name": "stdout",
          "text": [
            "Collecting gTTS\n",
            "  Downloading gTTS-2.5.3-py3-none-any.whl.metadata (4.1 kB)\n",
            "Requirement already satisfied: requests<3,>=2.27 in /usr/local/lib/python3.10/dist-packages (from gTTS) (2.32.3)\n",
            "Requirement already satisfied: click<8.2,>=7.1 in /usr/local/lib/python3.10/dist-packages (from gTTS) (8.1.7)\n",
            "Requirement already satisfied: charset-normalizer<4,>=2 in /usr/local/lib/python3.10/dist-packages (from requests<3,>=2.27->gTTS) (3.4.0)\n",
            "Requirement already satisfied: idna<4,>=2.5 in /usr/local/lib/python3.10/dist-packages (from requests<3,>=2.27->gTTS) (3.10)\n",
            "Requirement already satisfied: urllib3<3,>=1.21.1 in /usr/local/lib/python3.10/dist-packages (from requests<3,>=2.27->gTTS) (2.2.3)\n",
            "Requirement already satisfied: certifi>=2017.4.17 in /usr/local/lib/python3.10/dist-packages (from requests<3,>=2.27->gTTS) (2024.8.30)\n",
            "Downloading gTTS-2.5.3-py3-none-any.whl (29 kB)\n",
            "Installing collected packages: gTTS\n",
            "Successfully installed gTTS-2.5.3\n"
          ]
        }
      ]
    },
    {
      "cell_type": "code",
      "source": [
        "# Text to be converted to speech\n",
        "text = input ()\n",
        "\n",
        "# Language in which you want to convert\n",
        "language = 'en'\n",
        "\n",
        "# Pass the text and language to the gTTS module\n",
        "speech = gTTS(text = text, lang = language, slow = False)\n",
        "\n",
        "# Save the converted audio file\n",
        "speech.save(\"output.mp3\")\n",
        "\n",
        "# Display the audio directly in the notebook\n",
        "display(Audio(\"output.mp3\", autoplay=True))"
      ],
      "metadata": {
        "colab": {
          "base_uri": "https://localhost:8080/",
          "height": 93
        },
        "id": "L-BZMgXd2lRe",
        "outputId": "eadc8108-a272-478f-c1b8-94c39d5547c6"
      },
      "execution_count": 18,
      "outputs": [
        {
          "name": "stdout",
          "output_type": "stream",
          "text": [
            "I have succeeded in this task.\n"
          ]
        },
        {
          "output_type": "display_data",
          "data": {
            "text/plain": [
              "<IPython.lib.display.Audio object>"
            ],
            "text/html": [
              "\n",
              "                <audio  controls=\"controls\" autoplay=\"autoplay\">\n",
              "                    <source src=\"data:audio/mpeg;base64,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\" type=\"audio/mpeg\" />\n",
              "                    Your browser does not support the audio element.\n",
              "                </audio>\n",
              "              "
            ]
          },
          "metadata": {}
        }
      ]
    },
    {
      "cell_type": "markdown",
      "source": [
        "## Function Question"
      ],
      "metadata": {
        "id": "SP3rQM9G3B70"
      }
    },
    {
      "cell_type": "code",
      "source": [
        "# Define a function for multiplication\n",
        "def divide(x, y):\n",
        "    return x / y\n",
        "\n",
        "# Test the function\n",
        "result = divide (20, 4)\n",
        "print(\"The result of division is:\", result)"
      ],
      "metadata": {
        "colab": {
          "base_uri": "https://localhost:8080/"
        },
        "id": "E03UrhIM3E0M",
        "outputId": "04712abb-ea92-419f-dc34-489e5021e86a"
      },
      "execution_count": 19,
      "outputs": [
        {
          "output_type": "stream",
          "name": "stdout",
          "text": [
            "The result of division is: 5.0\n"
          ]
        }
      ]
    },
    {
      "cell_type": "markdown",
      "source": [
        "## Dictionary Question"
      ],
      "metadata": {
        "id": "4Qih8hzF3afs"
      }
    },
    {
      "cell_type": "code",
      "source": [
        "\n",
        "grades = {\"Alice\": 90, \"Bob\": 85, \"Charlie\": 70}\n",
        "\n",
        "# Return Bob's grade\n",
        "grades['Bob']\n"
      ],
      "metadata": {
        "colab": {
          "base_uri": "https://localhost:8080/"
        },
        "id": "MEx2u3I_3eGR",
        "outputId": "6108495f-0eb5-4c82-90b6-bb8a3094c183"
      },
      "execution_count": 22,
      "outputs": [
        {
          "output_type": "execute_result",
          "data": {
            "text/plain": [
              "85"
            ]
          },
          "metadata": {},
          "execution_count": 22
        }
      ]
    },
    {
      "cell_type": "markdown",
      "source": [
        "## Audio Question"
      ],
      "metadata": {
        "id": "OPRkdRl05Z-S"
      }
    },
    {
      "cell_type": "code",
      "source": [
        "!pip install gradio"
      ],
      "metadata": {
        "colab": {
          "base_uri": "https://localhost:8080/"
        },
        "id": "zlS2ncqf7HoB",
        "outputId": "8ed35ed4-3566-4efa-b948-4b1e840bf05d"
      },
      "execution_count": 27,
      "outputs": [
        {
          "output_type": "stream",
          "name": "stdout",
          "text": [
            "Collecting gradio\n",
            "  Downloading gradio-5.5.0-py3-none-any.whl.metadata (16 kB)\n",
            "Collecting aiofiles<24.0,>=22.0 (from gradio)\n",
            "  Downloading aiofiles-23.2.1-py3-none-any.whl.metadata (9.7 kB)\n",
            "Requirement already satisfied: anyio<5.0,>=3.0 in /usr/local/lib/python3.10/dist-packages (from gradio) (3.7.1)\n",
            "Collecting fastapi<1.0,>=0.115.2 (from gradio)\n",
            "  Downloading fastapi-0.115.4-py3-none-any.whl.metadata (27 kB)\n",
            "Collecting ffmpy (from gradio)\n",
            "  Downloading ffmpy-0.4.0-py3-none-any.whl.metadata (2.9 kB)\n",
            "Collecting gradio-client==1.4.2 (from gradio)\n",
            "  Downloading gradio_client-1.4.2-py3-none-any.whl.metadata (7.1 kB)\n",
            "Requirement already satisfied: httpx>=0.24.1 in /usr/local/lib/python3.10/dist-packages (from gradio) (0.27.2)\n",
            "Collecting huggingface-hub>=0.25.1 (from gradio)\n",
            "  Downloading huggingface_hub-0.26.2-py3-none-any.whl.metadata (13 kB)\n",
            "Requirement already satisfied: jinja2<4.0 in /usr/local/lib/python3.10/dist-packages (from gradio) (3.1.4)\n",
            "Collecting markupsafe~=2.0 (from gradio)\n",
            "  Downloading MarkupSafe-2.1.5-cp310-cp310-manylinux_2_17_x86_64.manylinux2014_x86_64.whl.metadata (3.0 kB)\n",
            "Requirement already satisfied: numpy<3.0,>=1.0 in /usr/local/lib/python3.10/dist-packages (from gradio) (1.26.4)\n",
            "Requirement already satisfied: orjson~=3.0 in /usr/local/lib/python3.10/dist-packages (from gradio) (3.10.10)\n",
            "Requirement already satisfied: packaging in /usr/local/lib/python3.10/dist-packages (from gradio) (24.1)\n",
            "Requirement already satisfied: pandas<3.0,>=1.0 in /usr/local/lib/python3.10/dist-packages (from gradio) (2.2.2)\n",
            "Requirement already satisfied: pillow<12.0,>=8.0 in /usr/local/lib/python3.10/dist-packages (from gradio) (10.4.0)\n",
            "Requirement already satisfied: pydantic>=2.0 in /usr/local/lib/python3.10/dist-packages (from gradio) (2.9.2)\n",
            "Collecting pydub (from gradio)\n",
            "  Downloading pydub-0.25.1-py2.py3-none-any.whl.metadata (1.4 kB)\n",
            "Collecting python-multipart==0.0.12 (from gradio)\n",
            "  Downloading python_multipart-0.0.12-py3-none-any.whl.metadata (1.9 kB)\n",
            "Requirement already satisfied: pyyaml<7.0,>=5.0 in /usr/local/lib/python3.10/dist-packages (from gradio) (6.0.2)\n",
            "Collecting ruff>=0.2.2 (from gradio)\n",
            "  Downloading ruff-0.7.3-py3-none-manylinux_2_17_x86_64.manylinux2014_x86_64.whl.metadata (25 kB)\n",
            "Collecting safehttpx<1.0,>=0.1.1 (from gradio)\n",
            "  Downloading safehttpx-0.1.1-py3-none-any.whl.metadata (4.1 kB)\n",
            "Collecting semantic-version~=2.0 (from gradio)\n",
            "  Downloading semantic_version-2.10.0-py2.py3-none-any.whl.metadata (9.7 kB)\n",
            "Collecting starlette<1.0,>=0.40.0 (from gradio)\n",
            "  Downloading starlette-0.41.2-py3-none-any.whl.metadata (6.0 kB)\n",
            "Collecting tomlkit==0.12.0 (from gradio)\n",
            "  Downloading tomlkit-0.12.0-py3-none-any.whl.metadata (2.7 kB)\n",
            "Requirement already satisfied: typer<1.0,>=0.12 in /usr/local/lib/python3.10/dist-packages (from gradio) (0.12.5)\n",
            "Requirement already satisfied: typing-extensions~=4.0 in /usr/local/lib/python3.10/dist-packages (from gradio) (4.12.2)\n",
            "Collecting uvicorn>=0.14.0 (from gradio)\n",
            "  Downloading uvicorn-0.32.0-py3-none-any.whl.metadata (6.6 kB)\n",
            "Requirement already satisfied: fsspec in /usr/local/lib/python3.10/dist-packages (from gradio-client==1.4.2->gradio) (2024.10.0)\n",
            "Collecting websockets<13.0,>=10.0 (from gradio-client==1.4.2->gradio)\n",
            "  Downloading websockets-12.0-cp310-cp310-manylinux_2_5_x86_64.manylinux1_x86_64.manylinux_2_17_x86_64.manylinux2014_x86_64.whl.metadata (6.6 kB)\n",
            "Requirement already satisfied: idna>=2.8 in /usr/local/lib/python3.10/dist-packages (from anyio<5.0,>=3.0->gradio) (3.10)\n",
            "Requirement already satisfied: sniffio>=1.1 in /usr/local/lib/python3.10/dist-packages (from anyio<5.0,>=3.0->gradio) (1.3.1)\n",
            "Requirement already satisfied: exceptiongroup in /usr/local/lib/python3.10/dist-packages (from anyio<5.0,>=3.0->gradio) (1.2.2)\n",
            "Requirement already satisfied: certifi in /usr/local/lib/python3.10/dist-packages (from httpx>=0.24.1->gradio) (2024.8.30)\n",
            "Requirement already satisfied: httpcore==1.* in /usr/local/lib/python3.10/dist-packages (from httpx>=0.24.1->gradio) (1.0.6)\n",
            "Requirement already satisfied: h11<0.15,>=0.13 in /usr/local/lib/python3.10/dist-packages (from httpcore==1.*->httpx>=0.24.1->gradio) (0.14.0)\n",
            "Requirement already satisfied: filelock in /usr/local/lib/python3.10/dist-packages (from huggingface-hub>=0.25.1->gradio) (3.16.1)\n",
            "Requirement already satisfied: requests in /usr/local/lib/python3.10/dist-packages (from huggingface-hub>=0.25.1->gradio) (2.32.3)\n",
            "Requirement already satisfied: tqdm>=4.42.1 in /usr/local/lib/python3.10/dist-packages (from huggingface-hub>=0.25.1->gradio) (4.66.6)\n",
            "Requirement already satisfied: python-dateutil>=2.8.2 in /usr/local/lib/python3.10/dist-packages (from pandas<3.0,>=1.0->gradio) (2.8.2)\n",
            "Requirement already satisfied: pytz>=2020.1 in /usr/local/lib/python3.10/dist-packages (from pandas<3.0,>=1.0->gradio) (2024.2)\n",
            "Requirement already satisfied: tzdata>=2022.7 in /usr/local/lib/python3.10/dist-packages (from pandas<3.0,>=1.0->gradio) (2024.2)\n",
            "Requirement already satisfied: annotated-types>=0.6.0 in /usr/local/lib/python3.10/dist-packages (from pydantic>=2.0->gradio) (0.7.0)\n",
            "Requirement already satisfied: pydantic-core==2.23.4 in /usr/local/lib/python3.10/dist-packages (from pydantic>=2.0->gradio) (2.23.4)\n",
            "Requirement already satisfied: click>=8.0.0 in /usr/local/lib/python3.10/dist-packages (from typer<1.0,>=0.12->gradio) (8.1.7)\n",
            "Requirement already satisfied: shellingham>=1.3.0 in /usr/local/lib/python3.10/dist-packages (from typer<1.0,>=0.12->gradio) (1.5.4)\n",
            "Requirement already satisfied: rich>=10.11.0 in /usr/local/lib/python3.10/dist-packages (from typer<1.0,>=0.12->gradio) (13.9.3)\n",
            "Requirement already satisfied: six>=1.5 in /usr/local/lib/python3.10/dist-packages (from python-dateutil>=2.8.2->pandas<3.0,>=1.0->gradio) (1.16.0)\n",
            "Requirement already satisfied: markdown-it-py>=2.2.0 in /usr/local/lib/python3.10/dist-packages (from rich>=10.11.0->typer<1.0,>=0.12->gradio) (3.0.0)\n",
            "Requirement already satisfied: pygments<3.0.0,>=2.13.0 in /usr/local/lib/python3.10/dist-packages (from rich>=10.11.0->typer<1.0,>=0.12->gradio) (2.18.0)\n",
            "Requirement already satisfied: charset-normalizer<4,>=2 in /usr/local/lib/python3.10/dist-packages (from requests->huggingface-hub>=0.25.1->gradio) (3.4.0)\n",
            "Requirement already satisfied: urllib3<3,>=1.21.1 in /usr/local/lib/python3.10/dist-packages (from requests->huggingface-hub>=0.25.1->gradio) (2.2.3)\n",
            "Requirement already satisfied: mdurl~=0.1 in /usr/local/lib/python3.10/dist-packages (from markdown-it-py>=2.2.0->rich>=10.11.0->typer<1.0,>=0.12->gradio) (0.1.2)\n",
            "Downloading gradio-5.5.0-py3-none-any.whl (56.7 MB)\n",
            "\u001b[2K   \u001b[90m━━━━━━━━━━━━━━━━━━━━━━━━━━━━━━━━━━━━━━━━\u001b[0m \u001b[32m56.7/56.7 MB\u001b[0m \u001b[31m6.9 MB/s\u001b[0m eta \u001b[36m0:00:00\u001b[0m\n",
            "\u001b[?25hDownloading gradio_client-1.4.2-py3-none-any.whl (319 kB)\n",
            "\u001b[2K   \u001b[90m━━━━━━━━━━━━━━━━━━━━━━━━━━━━━━━━━━━━━━━━\u001b[0m \u001b[32m319.8/319.8 kB\u001b[0m \u001b[31m20.8 MB/s\u001b[0m eta \u001b[36m0:00:00\u001b[0m\n",
            "\u001b[?25hDownloading python_multipart-0.0.12-py3-none-any.whl (23 kB)\n",
            "Downloading tomlkit-0.12.0-py3-none-any.whl (37 kB)\n",
            "Downloading aiofiles-23.2.1-py3-none-any.whl (15 kB)\n",
            "Downloading fastapi-0.115.4-py3-none-any.whl (94 kB)\n",
            "\u001b[2K   \u001b[90m━━━━━━━━━━━━━━━━━━━━━━━━━━━━━━━━━━━━━━━━\u001b[0m \u001b[32m94.7/94.7 kB\u001b[0m \u001b[31m6.7 MB/s\u001b[0m eta \u001b[36m0:00:00\u001b[0m\n",
            "\u001b[?25hDownloading huggingface_hub-0.26.2-py3-none-any.whl (447 kB)\n",
            "\u001b[2K   \u001b[90m━━━━━━━━━━━━━━━━━━━━━━━━━━━━━━━━━━━━━━━━\u001b[0m \u001b[32m447.5/447.5 kB\u001b[0m \u001b[31m25.7 MB/s\u001b[0m eta \u001b[36m0:00:00\u001b[0m\n",
            "\u001b[?25hDownloading MarkupSafe-2.1.5-cp310-cp310-manylinux_2_17_x86_64.manylinux2014_x86_64.whl (25 kB)\n",
            "Downloading ruff-0.7.3-py3-none-manylinux_2_17_x86_64.manylinux2014_x86_64.whl (11.0 MB)\n",
            "\u001b[2K   \u001b[90m━━━━━━━━━━━━━━━━━━━━━━━━━━━━━━━━━━━━━━━━\u001b[0m \u001b[32m11.0/11.0 MB\u001b[0m \u001b[31m63.4 MB/s\u001b[0m eta \u001b[36m0:00:00\u001b[0m\n",
            "\u001b[?25hDownloading safehttpx-0.1.1-py3-none-any.whl (8.4 kB)\n",
            "Downloading semantic_version-2.10.0-py2.py3-none-any.whl (15 kB)\n",
            "Downloading starlette-0.41.2-py3-none-any.whl (73 kB)\n",
            "\u001b[2K   \u001b[90m━━━━━━━━━━━━━━━━━━━━━━━━━━━━━━━━━━━━━━━━\u001b[0m \u001b[32m73.3/73.3 kB\u001b[0m \u001b[31m5.0 MB/s\u001b[0m eta \u001b[36m0:00:00\u001b[0m\n",
            "\u001b[?25hDownloading uvicorn-0.32.0-py3-none-any.whl (63 kB)\n",
            "\u001b[2K   \u001b[90m━━━━━━━━━━━━━━━━━━━━━━━━━━━━━━━━━━━━━━━━\u001b[0m \u001b[32m63.7/63.7 kB\u001b[0m \u001b[31m4.2 MB/s\u001b[0m eta \u001b[36m0:00:00\u001b[0m\n",
            "\u001b[?25hDownloading ffmpy-0.4.0-py3-none-any.whl (5.8 kB)\n",
            "Downloading pydub-0.25.1-py2.py3-none-any.whl (32 kB)\n",
            "Downloading websockets-12.0-cp310-cp310-manylinux_2_5_x86_64.manylinux1_x86_64.manylinux_2_17_x86_64.manylinux2014_x86_64.whl (130 kB)\n",
            "\u001b[2K   \u001b[90m━━━━━━━━━━━━━━━━━━━━━━━━━━━━━━━━━━━━━━━━\u001b[0m \u001b[32m130.2/130.2 kB\u001b[0m \u001b[31m8.4 MB/s\u001b[0m eta \u001b[36m0:00:00\u001b[0m\n",
            "\u001b[?25hInstalling collected packages: pydub, websockets, uvicorn, tomlkit, semantic-version, ruff, python-multipart, markupsafe, ffmpy, aiofiles, starlette, huggingface-hub, safehttpx, gradio-client, fastapi, gradio\n",
            "  Attempting uninstall: markupsafe\n",
            "    Found existing installation: MarkupSafe 3.0.2\n",
            "    Uninstalling MarkupSafe-3.0.2:\n",
            "      Successfully uninstalled MarkupSafe-3.0.2\n",
            "  Attempting uninstall: huggingface-hub\n",
            "    Found existing installation: huggingface-hub 0.24.7\n",
            "    Uninstalling huggingface-hub-0.24.7:\n",
            "      Successfully uninstalled huggingface-hub-0.24.7\n",
            "Successfully installed aiofiles-23.2.1 fastapi-0.115.4 ffmpy-0.4.0 gradio-5.5.0 gradio-client-1.4.2 huggingface-hub-0.26.2 markupsafe-2.1.5 pydub-0.25.1 python-multipart-0.0.12 ruff-0.7.3 safehttpx-0.1.1 semantic-version-2.10.0 starlette-0.41.2 tomlkit-0.12.0 uvicorn-0.32.0 websockets-12.0\n"
          ]
        }
      ]
    },
    {
      "cell_type": "code",
      "source": [
        "import gradio as gr\n",
        "from gtts import gTTS\n",
        "import os\n",
        "\n",
        "def text_to_speech(text, language):\n",
        "    lang_code = 'en' if language == \"English\" else 'ko'\n",
        "    tts = gTTS(text=text, lang=lang_code, slow=False)\n",
        "    tts.save(\"output.mp3\")\n",
        "    return \"output.mp3\"\n",
        "\n",
        "interface = gr.Interface(\n",
        "    fn=text_to_speech,\n",
        "    inputs=[\n",
        "        gr.Textbox(lines=3, label=\"Enter text\"),\n",
        "        gr.Radio(choices=[\"English\", \"Korean\"], label=\"Select language\")\n",
        "    ],\n",
        "    outputs=gr.Audio(type=\"filepath\", label=\"Audio\"),\n",
        "    title=\"Text-to-Speech\",\n",
        "    description=\"Type in some text, select a language, and generate audio.\",\n",
        ")\n",
        "\n",
        "interface.launch()"
      ],
      "metadata": {
        "colab": {
          "base_uri": "https://localhost:8080/",
          "height": 652
        },
        "id": "3lCvfZWS6uV5",
        "outputId": "ae6d5c5d-76a1-4baa-d2c8-02c14e7e188b"
      },
      "execution_count": 28,
      "outputs": [
        {
          "output_type": "stream",
          "name": "stdout",
          "text": [
            "Running Gradio in a Colab notebook requires sharing enabled. Automatically setting `share=True` (you can turn this off by setting `share=False` in `launch()` explicitly).\n",
            "\n",
            "Colab notebook detected. To show errors in colab notebook, set debug=True in launch()\n",
            "* Running on public URL: https://5c56d9cfd95c8b3d7a.gradio.live\n",
            "\n",
            "This share link expires in 72 hours. For free permanent hosting and GPU upgrades, run `gradio deploy` from the terminal in the working directory to deploy to Hugging Face Spaces (https://huggingface.co/spaces)\n"
          ]
        },
        {
          "output_type": "display_data",
          "data": {
            "text/plain": [
              "<IPython.core.display.HTML object>"
            ],
            "text/html": [
              "<div><iframe src=\"https://5c56d9cfd95c8b3d7a.gradio.live\" width=\"100%\" height=\"500\" allow=\"autoplay; camera; microphone; clipboard-read; clipboard-write;\" frameborder=\"0\" allowfullscreen></iframe></div>"
            ]
          },
          "metadata": {}
        },
        {
          "output_type": "execute_result",
          "data": {
            "text/plain": []
          },
          "metadata": {},
          "execution_count": 28
        }
      ]
    },
    {
      "cell_type": "markdown",
      "source": [
        "## Countdown Question"
      ],
      "metadata": {
        "id": "N1LsXXkd8dAE"
      }
    },
    {
      "cell_type": "code",
      "source": [
        "import gradio as gr\n",
        "from datetime import datetime\n",
        "\n",
        "def countdown(target_date):\n",
        "    try:\n",
        "        # Parse the user input date\n",
        "        date_format = \"%Y-%m-%d\"\n",
        "        future_date = datetime.strptime(target_date, date_format)\n",
        "\n",
        "        # Get the current time\n",
        "        now = datetime.now()\n",
        "\n",
        "        # Calculate the difference between the future date and the current time\n",
        "        countdown = future_date - now\n",
        "\n",
        "        # Generate the countdown message\n",
        "        if countdown.days >= 0:\n",
        "            return f\"{target_date}까지 남은 시간: \\n {countdown.days} 일, {countdown.seconds//3600} 시간, {(countdown.seconds//60)%60} 분.\"\n",
        "        else:\n",
        "            return \"입력하신 날짜는 이미 지났습니다.\"\n",
        "    except ValueError:\n",
        "        return \"Please enter the date in YYYY-MM-DD format.\"\n",
        "\n",
        "# Create the Gradio interface\n",
        "interface = gr.Interface(\n",
        "    fn=countdown,\n",
        "    inputs=gr.Text(label=\"미래의 날짜를 입력하십시오. (e.g., 2024-12-25)\"),\n",
        "    outputs=\"text\",\n",
        "    title=\"날짜 계산기\",\n",
        "    description=\"날짜를 입력하면 지정된 날짜까지 며칠, 몇 시간, 몇 분이 남았는지 확인할 수 있습니다.\"\n",
        ")\n",
        "\n",
        "interface.launch()\n"
      ],
      "metadata": {
        "colab": {
          "base_uri": "https://localhost:8080/",
          "height": 652
        },
        "id": "A6UGXj0m8gQf",
        "outputId": "91ec4c38-51b3-4bc7-b0b8-c6aacf061f22"
      },
      "execution_count": 34,
      "outputs": [
        {
          "output_type": "stream",
          "name": "stdout",
          "text": [
            "Running Gradio in a Colab notebook requires sharing enabled. Automatically setting `share=True` (you can turn this off by setting `share=False` in `launch()` explicitly).\n",
            "\n",
            "Colab notebook detected. To show errors in colab notebook, set debug=True in launch()\n",
            "* Running on public URL: https://a995e0a0a7b42d3eea.gradio.live\n",
            "\n",
            "This share link expires in 72 hours. For free permanent hosting and GPU upgrades, run `gradio deploy` from the terminal in the working directory to deploy to Hugging Face Spaces (https://huggingface.co/spaces)\n"
          ]
        },
        {
          "output_type": "display_data",
          "data": {
            "text/plain": [
              "<IPython.core.display.HTML object>"
            ],
            "text/html": [
              "<div><iframe src=\"https://a995e0a0a7b42d3eea.gradio.live\" width=\"100%\" height=\"500\" allow=\"autoplay; camera; microphone; clipboard-read; clipboard-write;\" frameborder=\"0\" allowfullscreen></iframe></div>"
            ]
          },
          "metadata": {}
        },
        {
          "output_type": "execute_result",
          "data": {
            "text/plain": []
          },
          "metadata": {},
          "execution_count": 34
        }
      ]
    }
  ]
}